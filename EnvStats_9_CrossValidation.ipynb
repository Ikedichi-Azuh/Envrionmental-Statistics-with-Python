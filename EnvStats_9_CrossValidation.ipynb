{
 "cells": [
  {
   "cell_type": "markdown",
   "id": "10c170e2-8c70-4e5e-82ef-6e21c9aacc3c",
   "metadata": {},
   "source": [
    "<div class=\"alert alert-info\">\n",
    "<h1>Cross-validation</h1>\n",
    "<h4>Environmental Statistics 9</h4>\n",
    "    \n",
    "Ikedichi E. Azuh / C.F. Dormann\n",
    "</div>"
   ]
  },
  {
   "cell_type": "markdown",
   "id": "4175339b",
   "metadata": {},
   "source": [
    "Cross-validation is a crucial technique in model evaluation and selection. In this session, we'll explore the principles of cross-validation and its applications in assessing model performance. Participants will learn how to implement different cross-validation methods, such as k-fold and leave-one-out cross-validation, to ensure robustness and generalizability of their predictive models.\n",
    "  \n",
    "There is two thing to learn today: \n",
    "\n",
    "  * How to implement cross-validation.\n",
    "  * How to select the right size for blocks in block-cross-validation.\n",
    "  * Maybe: Understand why different blocks yield different CV-error (tricky, that one)."
   ]
  },
  {
   "cell_type": "code",
   "execution_count": 2,
   "id": "3cc80a2c",
   "metadata": {},
   "outputs": [],
   "source": [
    "import pandas as pd\n",
    "import numpy as np\n",
    "import matplotlib.pyplot as plt\n",
    "import statsmodels.api as sm\n",
    "from sklearn.metrics import mean_squared_error\n",
    "from sklearn.model_selection import KFold\n",
    "from math import sqrt\n",
    "from statsmodels.graphics.tsaplots import plot_pacf\n",
    "from pygam import LinearGAM, s, f\n"
   ]
  },
  {
   "cell_type": "markdown",
   "id": "f5f331b1-c233-4af8-ab97-5687272ae980",
   "metadata": {},
   "source": [
    "## 1 Exercise 1: Cross-validation of a linear model\n",
    "\n",
    "### 1.1 Fit body and brain weight as predictors to how many hours mammals are sleeping per day.\n",
    "\n",
    "The data from R's faraway package, specifically the` mammalslee`p dataset utilized in the previous lecture, is available for reference. Take note of the self-reported residual standard error (= RMSE)."
   ]
  },
  {
   "cell_type": "code",
   "execution_count": 3,
   "id": "d11c658f",
   "metadata": {},
   "outputs": [
    {
     "data": {
      "text/html": [
       "<div>\n",
       "<style scoped>\n",
       "    .dataframe tbody tr th:only-of-type {\n",
       "        vertical-align: middle;\n",
       "    }\n",
       "\n",
       "    .dataframe tbody tr th {\n",
       "        vertical-align: top;\n",
       "    }\n",
       "\n",
       "    .dataframe thead th {\n",
       "        text-align: right;\n",
       "    }\n",
       "</style>\n",
       "<table border=\"1\" class=\"dataframe\">\n",
       "  <thead>\n",
       "    <tr style=\"text-align: right;\">\n",
       "      <th></th>\n",
       "      <th>body</th>\n",
       "      <th>brain</th>\n",
       "      <th>nondream</th>\n",
       "      <th>dream</th>\n",
       "      <th>sleep</th>\n",
       "      <th>lifespan</th>\n",
       "      <th>gestation</th>\n",
       "      <th>predation</th>\n",
       "      <th>exposure</th>\n",
       "      <th>danger</th>\n",
       "    </tr>\n",
       "  </thead>\n",
       "  <tbody>\n",
       "    <tr>\n",
       "      <th>count</th>\n",
       "      <td>62.000000</td>\n",
       "      <td>62.000000</td>\n",
       "      <td>48.000000</td>\n",
       "      <td>50.000000</td>\n",
       "      <td>58.000000</td>\n",
       "      <td>58.000000</td>\n",
       "      <td>58.000000</td>\n",
       "      <td>62.000000</td>\n",
       "      <td>62.000000</td>\n",
       "      <td>62.000000</td>\n",
       "    </tr>\n",
       "    <tr>\n",
       "      <th>mean</th>\n",
       "      <td>198.789984</td>\n",
       "      <td>283.134194</td>\n",
       "      <td>8.672917</td>\n",
       "      <td>1.972000</td>\n",
       "      <td>10.532759</td>\n",
       "      <td>19.877586</td>\n",
       "      <td>142.353448</td>\n",
       "      <td>2.870968</td>\n",
       "      <td>2.419355</td>\n",
       "      <td>2.612903</td>\n",
       "    </tr>\n",
       "    <tr>\n",
       "      <th>std</th>\n",
       "      <td>899.158011</td>\n",
       "      <td>930.278942</td>\n",
       "      <td>3.666452</td>\n",
       "      <td>1.442651</td>\n",
       "      <td>4.606760</td>\n",
       "      <td>18.206255</td>\n",
       "      <td>146.805039</td>\n",
       "      <td>1.476414</td>\n",
       "      <td>1.604792</td>\n",
       "      <td>1.441252</td>\n",
       "    </tr>\n",
       "    <tr>\n",
       "      <th>min</th>\n",
       "      <td>0.005000</td>\n",
       "      <td>0.140000</td>\n",
       "      <td>2.100000</td>\n",
       "      <td>0.000000</td>\n",
       "      <td>2.600000</td>\n",
       "      <td>2.000000</td>\n",
       "      <td>12.000000</td>\n",
       "      <td>1.000000</td>\n",
       "      <td>1.000000</td>\n",
       "      <td>1.000000</td>\n",
       "    </tr>\n",
       "    <tr>\n",
       "      <th>25%</th>\n",
       "      <td>0.600000</td>\n",
       "      <td>4.250000</td>\n",
       "      <td>6.250000</td>\n",
       "      <td>0.900000</td>\n",
       "      <td>8.050000</td>\n",
       "      <td>6.625000</td>\n",
       "      <td>35.750000</td>\n",
       "      <td>2.000000</td>\n",
       "      <td>1.000000</td>\n",
       "      <td>1.000000</td>\n",
       "    </tr>\n",
       "    <tr>\n",
       "      <th>50%</th>\n",
       "      <td>3.342500</td>\n",
       "      <td>17.250000</td>\n",
       "      <td>8.350000</td>\n",
       "      <td>1.800000</td>\n",
       "      <td>10.450000</td>\n",
       "      <td>15.100000</td>\n",
       "      <td>79.000000</td>\n",
       "      <td>3.000000</td>\n",
       "      <td>2.000000</td>\n",
       "      <td>2.000000</td>\n",
       "    </tr>\n",
       "    <tr>\n",
       "      <th>75%</th>\n",
       "      <td>48.202500</td>\n",
       "      <td>166.000000</td>\n",
       "      <td>11.000000</td>\n",
       "      <td>2.550000</td>\n",
       "      <td>13.200000</td>\n",
       "      <td>27.750000</td>\n",
       "      <td>207.500000</td>\n",
       "      <td>4.000000</td>\n",
       "      <td>4.000000</td>\n",
       "      <td>4.000000</td>\n",
       "    </tr>\n",
       "    <tr>\n",
       "      <th>max</th>\n",
       "      <td>6654.000000</td>\n",
       "      <td>5712.000000</td>\n",
       "      <td>17.900000</td>\n",
       "      <td>6.600000</td>\n",
       "      <td>19.900000</td>\n",
       "      <td>100.000000</td>\n",
       "      <td>645.000000</td>\n",
       "      <td>5.000000</td>\n",
       "      <td>5.000000</td>\n",
       "      <td>5.000000</td>\n",
       "    </tr>\n",
       "  </tbody>\n",
       "</table>\n",
       "</div>"
      ],
      "text/plain": [
       "              body        brain   nondream      dream      sleep    lifespan  \\\n",
       "count    62.000000    62.000000  48.000000  50.000000  58.000000   58.000000   \n",
       "mean    198.789984   283.134194   8.672917   1.972000  10.532759   19.877586   \n",
       "std     899.158011   930.278942   3.666452   1.442651   4.606760   18.206255   \n",
       "min       0.005000     0.140000   2.100000   0.000000   2.600000    2.000000   \n",
       "25%       0.600000     4.250000   6.250000   0.900000   8.050000    6.625000   \n",
       "50%       3.342500    17.250000   8.350000   1.800000  10.450000   15.100000   \n",
       "75%      48.202500   166.000000  11.000000   2.550000  13.200000   27.750000   \n",
       "max    6654.000000  5712.000000  17.900000   6.600000  19.900000  100.000000   \n",
       "\n",
       "        gestation  predation   exposure     danger  \n",
       "count   58.000000  62.000000  62.000000  62.000000  \n",
       "mean   142.353448   2.870968   2.419355   2.612903  \n",
       "std    146.805039   1.476414   1.604792   1.441252  \n",
       "min     12.000000   1.000000   1.000000   1.000000  \n",
       "25%     35.750000   2.000000   1.000000   1.000000  \n",
       "50%     79.000000   3.000000   2.000000   2.000000  \n",
       "75%    207.500000   4.000000   4.000000   4.000000  \n",
       "max    645.000000   5.000000   5.000000   5.000000  "
      ]
     },
     "execution_count": 3,
     "metadata": {},
     "output_type": "execute_result"
    }
   ],
   "source": [
    "mammalsleep = pd.read_csv(\"mammalsleep.csv\")\n",
    "mammalsleep.describe()\n"
   ]
  },
  {
   "cell_type": "code",
   "execution_count": 4,
   "id": "889e9dc2",
   "metadata": {},
   "outputs": [
    {
     "name": "stdout",
     "output_type": "stream",
     "text": [
      "                            OLS Regression Results                            \n",
      "==============================================================================\n",
      "Dep. Variable:                  sleep   R-squared:                       0.385\n",
      "Model:                            OLS   Adj. R-squared:                  0.349\n",
      "Method:                 Least Squares   F-statistic:                     10.45\n",
      "Date:                Wed, 20 Mar 2024   Prob (F-statistic):           1.90e-05\n",
      "Time:                        11:51:31   Log-Likelihood:                -146.59\n",
      "No. Observations:                  54   AIC:                             301.2\n",
      "Df Residuals:                      50   BIC:                             309.1\n",
      "Df Model:                           3                                         \n",
      "Covariance Type:            nonrobust                                         \n",
      "=====================================================================================================\n",
      "                                        coef    std err          t      P>|t|      [0.025      0.975]\n",
      "-----------------------------------------------------------------------------------------------------\n",
      "Intercept                            12.9555      1.836      7.055      0.000       9.267      16.644\n",
      "np.log10(body)                        1.6205      1.307      1.240      0.221      -1.005       4.246\n",
      "np.log10(lifespan)                   -0.7723      1.756     -0.440      0.662      -4.299       2.755\n",
      "np.log10(body):np.log10(lifespan)    -2.5357      0.935     -2.711      0.009      -4.415      -0.657\n",
      "==============================================================================\n",
      "Omnibus:                        1.046   Durbin-Watson:                   1.562\n",
      "Prob(Omnibus):                  0.593   Jarque-Bera (JB):                0.932\n",
      "Skew:                          -0.081   Prob(JB):                        0.627\n",
      "Kurtosis:                       2.377   Cond. No.                         13.5\n",
      "==============================================================================\n",
      "\n",
      "Notes:\n",
      "[1] Standard Errors assume that the covariance matrix of the errors is correctly specified.\n"
     ]
    }
   ],
   "source": [
    "model = sm.OLS.from_formula('sleep ~ np.log10(body) * np.log10(lifespan)', data=mammalsleep).fit()\n",
    "print(model.summary())\n"
   ]
  },
  {
   "cell_type": "code",
   "execution_count": 5,
   "id": "13a313f6",
   "metadata": {},
   "outputs": [
    {
     "name": "stdout",
     "output_type": "stream",
     "text": [
      "RMSE: 3.79676561852267\n"
     ]
    }
   ],
   "source": [
    "n = 54 \n",
    "p = model.df_model  # Number of predictors\n",
    "residuals = model.resid\n",
    "RMSE = np.sqrt(np.sum(residuals ** 2) / (n - 3 - 1))\n",
    "\n",
    "\n",
    "print(\"RMSE:\", RMSE)"
   ]
  },
  {
   "cell_type": "code",
   "execution_count": 27,
   "id": "0b282e57",
   "metadata": {},
   "outputs": [],
   "source": [
    "# MSE\n",
    "#mean_squared_error = np.mean((data['sleep'] - predicted) ** 2)\n",
    "\n",
    "# RMSE\n",
    "# rmse = sqrt(mean_squared_error)\n",
    "\n",
    "# print(\"Root Mean Squared Error (RMSE):\", rmse)\n"
   ]
  },
  {
   "cell_type": "markdown",
   "id": "1d338e8c",
   "metadata": {},
   "source": [
    "### 1.2 Run a leave-one-out cross-validation\n",
    "How does the error in LOO compare to the error in the previously fitted model?"
   ]
  },
  {
   "cell_type": "code",
   "execution_count": 6,
   "id": "2d9b56c6",
   "metadata": {},
   "outputs": [
    {
     "name": "stdout",
     "output_type": "stream",
     "text": [
      "Mean RMSE: 3.2393866117094423\n"
     ]
    }
   ],
   "source": [
    "# first Remove NANs only with respect to ['lifespan', 'sleep']\n",
    "np.random.seed(123)\n",
    "ms = mammalsleep.dropna(subset=['lifespan', 'sleep'])\n",
    "ms.reset_index(drop=True, inplace=True)\n",
    "\n",
    "N = len(ms)\n",
    "RMSEloo = [] #np.zeros(N)\n",
    "\n",
    "for i in range(N):\n",
    "    data_exclude_i = ms.drop(index=i)\n",
    "    model = sm.OLS.from_formula('sleep ~ np.log10(body) * np.log10(lifespan)', data=data_exclude_i).fit()\n",
    "    predscv = model.predict(ms.loc[i:i]).to_frame()\n",
    "    rmse = sqrt(mean_squared_error([ms['sleep'].iloc[i]], predscv))\n",
    "    RMSEloo.append(rmse)\n",
    "    \n",
    "print(\"Mean RMSE:\", np.mean(RMSEloo))"
   ]
  },
  {
   "cell_type": "code",
   "execution_count": 7,
   "id": "b5344d4c",
   "metadata": {},
   "outputs": [
    {
     "name": "stdout",
     "output_type": "stream",
     "text": [
      "Mean RMSE: 3.2393866117094423\n"
     ]
    }
   ],
   "source": [
    "# first Remove NANs only with respect to ['lifespan', 'sleep']\n",
    "np.random.seed(123)\n",
    "ms = mammalsleep.dropna(subset=['lifespan', 'sleep'])\n",
    "ms.reset_index(drop=True, inplace=True)\n",
    "\n",
    "N = len(ms)\n",
    "RMSEloo2 = np.zeros(N)\n",
    "\n",
    "for i in range(N):\n",
    "    data_exclude_i = ms.drop(index=i)\n",
    "    model = sm.OLS.from_formula('sleep ~ np.log10(body) * np.log10(lifespan)', data=data_exclude_i).fit()\n",
    "    predscv = model.predict(ms.loc[i:i]).to_frame()\n",
    "    RMSEloo2[i] = sqrt(mean_squared_error([ms['sleep'].iloc[i]], predscv))\n",
    "    \n",
    "print(\"Mean RMSE:\", np.mean(RMSEloo2))\n"
   ]
  },
  {
   "cell_type": "markdown",
   "id": "c81bb5d1",
   "metadata": {},
   "source": [
    "So the LOO-estimate for the error is even smaller than that of the self-reported error.\n",
    "\n",
    "### 1.3 Run a 6-fold cross-validation\n",
    "Since there are 54 data points (8 rows are incomplete, and we here don't want to conflate imputation and cross-validation), we can form 6 folds of 8 data poitns each. So simply omit the cases where we have no information on lifespan or sleep."
   ]
  },
  {
   "cell_type": "code",
   "execution_count": 8,
   "id": "c03172f2",
   "metadata": {},
   "outputs": [
    {
     "name": "stdout",
     "output_type": "stream",
     "text": [
      "RMSE for each fold: [2.4901426  6.05313279 3.37176414 4.68672695 2.28394596 4.05765046]\n",
      "Mean RMSE (6-Fold Cross-Validation): 3.823893816579998\n"
     ]
    }
   ],
   "source": [
    "np.random.seed(122)\n",
    "ms = mammalsleep.dropna(subset=['lifespan', 'sleep'])\n",
    "ms.reset_index(drop=True, inplace=True)\n",
    "\n",
    "folds = np.repeat(np.arange(1, 7), 8)  # similar to R's sample(rep(1:6, each=8))\n",
    "np.random.shuffle(folds)  # Shuffling the folds\n",
    "\n",
    "\n",
    "RMSE_6fold = np.zeros(6)\n",
    "\n",
    "#fold_index = 0\n",
    "for i in range(1, 7):\n",
    "    train_indices = np.where(folds != i)[0]\n",
    "    test_indices = np.where(folds == i)[0]\n",
    "\n",
    "    train_data = ms.iloc[train_indices]\n",
    "    test_data = ms.iloc[test_indices]\n",
    "\n",
    "    formula = 'sleep ~ np.log10(body) * np.log10(lifespan)'\n",
    "    model = sm.OLS.from_formula(formula, data=train_data)\n",
    "    fitted_model = model.fit()\n",
    "\n",
    "    X_test = test_data[['body', 'lifespan']]\n",
    "    y_test = test_data['sleep']\n",
    "\n",
    "    # Predicting on the test set\n",
    "    pred = fitted_model.predict(X_test)\n",
    "    RMSE_6fold[i - 1] = np.sqrt(mean_squared_error(y_test, pred))\n",
    "    #RMSE6fold[fold_index] = np.sqrt(mean_squared_error(y_test, pred))\n",
    "    #fold_index += 1\n",
    "\n",
    "print(\"RMSE for each fold:\", RMSE_6fold)\n",
    "print(\"Mean RMSE (6-Fold Cross-Validation):\", np.mean(RMSE_6fold))"
   ]
  },
  {
   "cell_type": "markdown",
   "id": "493c54dc",
   "metadata": {},
   "source": [
    "The 6-fold cross-validation yields an estimate very similar to the original linear model.\n",
    "\n",
    "The problem is that we now have used only 6 splits of the data, and 6 is a really low number. Let's solve that in the next section.\n",
    "\n",
    "\n",
    "### 1.4 Run a repeated sub-sampling validation\n",
    "For example, 100 repetitions of a 70% train, 30% test split.\n",
    "In this case, we can retain all the missing values, as they will be sometimes more in the train, sometimes more in the test, and that effect will wash out with the larger number of repetitions."
   ]
  },
  {
   "cell_type": "code",
   "execution_count": 9,
   "id": "8211f018",
   "metadata": {},
   "outputs": [
    {
     "name": "stdout",
     "output_type": "stream",
     "text": [
      "Mean RMSE (100-Fold Cross-Validation): 3.9943484025399396\n",
      "Standard Deviation of RMSE: 0.5194907952554335\n"
     ]
    }
   ],
   "source": [
    "np.random.seed(123)\n",
    "ms = mammalsleep.dropna(subset=['lifespan', 'sleep'])\n",
    "ms.reset_index(drop=True, inplace=True)\n",
    "\n",
    "reps = 100\n",
    "trainProportion = 0.7\n",
    "\n",
    "RMSE100fold = np.zeros(reps)\n",
    "\n",
    "for k in range(reps):\n",
    "    trainSize = int(trainProportion * len(ms))\n",
    "    CVindex = np.random.permutation(len(ms)) # shuffle row numbers\n",
    "    \n",
    "    # Split data\n",
    "    train_indices = CVindex[:trainSize] #select elements from (index 0) up to, but not including, the 'trainSize' index.\n",
    "    test_indices = CVindex[trainSize:]\n",
    "    \n",
    "    # Fit a linear regression model\n",
    "    model = sm.OLS.from_formula('sleep ~ np.log10(body) * np.log10(lifespan)',\n",
    "                                data=ms.iloc[train_indices]).fit()\n",
    "    predscv = model.predict(ms.iloc[test_indices])\n",
    "\n",
    "    RMSE100fold[k] = sqrt(mean_squared_error(ms['sleep'].iloc[test_indices], predscv))\n",
    "\n",
    "print(\"Mean RMSE (100-Fold Cross-Validation):\", np.mean(RMSE100fold))\n",
    "print(\"Standard Deviation of RMSE:\", np.std(RMSE100fold))\n"
   ]
  },
  {
   "cell_type": "markdown",
   "id": "86d2a186",
   "metadata": {},
   "source": [
    "This repeated split-based CV-approaches yield larger RMSE than the self-reporting linear model, which can be attributed to the substantially lower sample size when fitting the model. This difference becomes smaller as the sample size increases.\n",
    "\n",
    "\n",
    "## 2 Cross-validation for time series\n",
    "Time-series cross-validation has to overcome the problem of temporal autocorrelation. It is thus typically a two-step procedure. First, we quantify the range of temporal autocorrelation *in the raw response data*. Then we make blocks of something like twice the range of the autocorrelation, and then use them in a k-fold cross-validation.\n",
    "\n",
    "The key problem arises for time series with strong periodicity. For example, predicting from April of one year to Aril the next year may much more accurate than to September in the same (or next) year. In such a case, we need to make the blocks much larger than the periodicity (e.g. 10 years), or much smaller (e.g. months).\n",
    "\n",
    "### 2.1 Compute (partial) autocorrelation for the CO2 data\n",
    "The data are in **locfit**. Deduce from the partial ACF what could be good block sizes. Then fit a GAM *without* autocorrelation structure (simply because it is much faster), a trend across years and with a cyclic spline for month. Compute for this baseline GAM the standard deviation of the residuals (equivalent to the RMSE of that model).\n"
   ]
  },
  {
   "cell_type": "code",
   "execution_count": 10,
   "id": "81cf1145",
   "metadata": {},
   "outputs": [
    {
     "name": "stdout",
     "output_type": "stream",
     "text": [
      "   year  month     co2\n",
      "0  1959      1  315.42\n",
      "1  1959      2  316.32\n",
      "2  1959      3  316.49\n",
      "3  1959      4  317.56\n",
      "4  1959      5  318.13\n"
     ]
    },
    {
     "data": {
      "image/png": "[encoded data removed]",
      "text/plain": [
       "<Figure size 640x480 with 1 Axes>"
      ]
     },
     "metadata": {},
     "output_type": "display_data"
    }
   ],
   "source": [
    "co2 = pd.read_csv('co2.csv')\n",
    "print(co2.head())\n",
    "\n",
    "plot_pacf(co2['co2'])\n",
    "plt.title('Partial Autocorrelation Function (PACF)')\n",
    "plt.xlabel('Lags')\n",
    "plt.show()"
   ]
  },
  {
   "cell_type": "markdown",
   "id": "0f20770a",
   "metadata": {},
   "source": [
    "This suggests a lag of 2 months (first a positive, then a negative correlation), and other lags at 9/10, 12/13 months. From this we could suggest block sizes of 4-8 month or more than 2 years."
   ]
  },
  {
   "cell_type": "code",
   "execution_count": 11,
   "id": "7b23fe8d",
   "metadata": {},
   "outputs": [
    {
     "name": "stdout",
     "output_type": "stream",
     "text": [
      "LinearGAM                                                                                                 \n",
      "=============================================== ==========================================================\n",
      "Distribution:                        NormalDist Effective DoF:                                     19.6119\n",
      "Link Function:                     IdentityLink Log Likelihood:                                 -1070.9155\n",
      "Number of Samples:                          384 AIC:                                             2183.0548\n",
      "                                                AICc:                                            2185.5133\n",
      "                                                GCV:                                                0.1305\n",
      "                                                Scale:                                              0.1185\n",
      "                                                Pseudo R-Squared:                                   0.9992\n",
      "==========================================================================================================\n",
      "Feature Function                  Lambda               Rank         EDoF         P > x        Sig. Code   \n",
      "================================= ==================== ============ ============ ============ ============\n",
      "s(0)                              [0.6]                20           12.7         1.11e-16     ***         \n",
      "s(1)                              [0.6]                12           6.9          1.11e-16     ***         \n",
      "intercept                                              1            0.0          1.11e-16     ***         \n",
      "==========================================================================================================\n",
      "Significance codes:  0 '***' 0.001 '**' 0.01 '*' 0.05 '.' 0.1 ' ' 1\n",
      "\n",
      "WARNING: Fitting splines and a linear function to a feature introduces a model identifiability problem\n",
      "         which can cause p-values to appear significant when they are not.\n",
      "\n",
      "WARNING: p-values calculated in this manner behave correctly for un-penalized models or models with\n",
      "         known smoothing parameters, but when smoothing parameters have been estimated, the p-values\n",
      "         are typically lower than they should be, meaning that the tests reject the null too readily.\n",
      "None\n"
     ]
    },
    {
     "name": "stderr",
     "output_type": "stream",
     "text": [
      "C:\\Users\\Ikedichi_Azuh\\AppData\\Local\\Temp\\ipykernel_13476\\2545901427.py:6: UserWarning: KNOWN BUG: p-values computed in this summary are likely much smaller than they should be. \n",
      " \n",
      "Please do not make inferences based on these values! \n",
      "\n",
      "Collaborate on a solution, and stay up to date at: \n",
      "github.com/dswah/pyGAM/issues/163 \n",
      "\n",
      "  print(fbaseline.summary())\n"
     ]
    }
   ],
   "source": [
    "X = co2[['year', 'month']].values\n",
    "y = co2['co2'].values\n",
    "\n",
    "fbaseline = LinearGAM(s(0) + s(1, n_splines=12)).fit(X, y)\n",
    "\n",
    "print(fbaseline.summary())\n"
   ]
  },
  {
   "cell_type": "code",
   "execution_count": 12,
   "id": "4cd8b856",
   "metadata": {},
   "outputs": [
    {
     "name": "stdout",
     "output_type": "stream",
     "text": [
      "\n",
      " Standard Deviation of Residuals: 0.3353976128856606\n"
     ]
    }
   ],
   "source": [
    "residuals = y - fbaseline.predict(X)\n",
    "residual_sd = np.std(residuals)\n",
    "\n",
    "print(\"\\n Standard Deviation of Residuals:\", residual_sd)"
   ]
  },
  {
   "cell_type": "code",
   "execution_count": 13,
   "id": "f396ef3e",
   "metadata": {},
   "outputs": [
    {
     "name": "stdout",
     "output_type": "stream",
     "text": [
      "RMSE: 0.33539761288566083\n"
     ]
    }
   ],
   "source": [
    "RMSE = sqrt(mean_squared_error(y, fbaseline.predict(X)))\n",
    "\n",
    "print(\"RMSE:\", RMSE)"
   ]
  },
  {
   "cell_type": "markdown",
   "id": "63d7befd",
   "metadata": {},
   "source": [
    "### 2.2 Perform a monthly block-cross-validation\n",
    "This is equivalent to a leave-one-out cross-validation!"
   ]
  },
  {
   "cell_type": "code",
   "execution_count": 14,
   "id": "564e454b",
   "metadata": {},
   "outputs": [
    {
     "name": "stdout",
     "output_type": "stream",
     "text": [
      "Mean RMSE (Leave-One-Out Cross-Validation): 0.27805270845130875\n"
     ]
    }
   ],
   "source": [
    "RMSE1month = np.zeros(len(co2))\n",
    "\n",
    "for i in range(len(co2)):\n",
    "    X_exclude_i = np.delete(X, i, axis=0)\n",
    "    y_exclude_i = np.delete(y, i)\n",
    "    \n",
    "    fcv = LinearGAM(s(0) + s(1, n_splines=12)).fit(X_exclude_i, y_exclude_i)\n",
    "    pred = fcv.predict(X[i:i+1])\n",
    "    RMSE1month[i] = sqrt(mean_squared_error(y[i:i+1], pred))\n",
    "\n",
    "print(\"Mean RMSE (Leave-One-Out Cross-Validation):\", np.mean(RMSE1month))\n"
   ]
  },
  {
   "cell_type": "markdown",
   "id": "b9a5bab3",
   "metadata": {},
   "source": [
    "### 2.3 Perform a half-yearly block-cross-validation"
   ]
  },
  {
   "cell_type": "code",
   "execution_count": 15,
   "id": "b0b453f2",
   "metadata": {},
   "outputs": [
    {
     "name": "stdout",
     "output_type": "stream",
     "text": [
      "Mean RMSE (Half-Year Cross-Validation): 0.3473218886742487\n"
     ]
    }
   ],
   "source": [
    "co2['halfyear'] = np.where(co2['month'].isin(range(1, 7)), 0.25, 0.75) #ifelse(co2$month %in% 1:6, 0.25, 0.75)\n",
    "co2['halfYears'] = co2['year'] + co2['halfyear']\n",
    "\n",
    "blockIDs = co2['halfYears'].unique()\n",
    "\n",
    "RMSE6month = np.zeros(len(blockIDs))\n",
    "\n",
    "for i, blockID in enumerate(blockIDs):\n",
    "    X_block = X[co2['halfYears'] != blockID]\n",
    "    y_block = y[co2['halfYears'] != blockID]\n",
    "    \n",
    "    fcv = LinearGAM(s(0) + s(1, n_splines=12)).fit(X_block, y_block)\n",
    "    X_pred = X[co2['halfYears'] == blockID]\n",
    "    pred = fcv.predict(X_pred)\n",
    "\n",
    "    RMSE6month[i] = sqrt(mean_squared_error(y[co2['halfYears'] == blockID], pred))\n",
    "\n",
    "print(\"Mean RMSE (Half-Year Cross-Validation):\", np.mean(RMSE6month))\n"
   ]
  },
  {
   "cell_type": "markdown",
   "id": "fc4103cd",
   "metadata": {},
   "source": [
    "### 2.4 Perform a yearly block-cross-validation"
   ]
  },
  {
   "cell_type": "code",
   "execution_count": 16,
   "id": "aa304c5a",
   "metadata": {},
   "outputs": [
    {
     "name": "stdout",
     "output_type": "stream",
     "text": [
      "Mean RMSE (Yearly Cross-Validation): 0.39624376448649146\n"
     ]
    }
   ],
   "source": [
    "years_unique = co2['year'].unique()\n",
    "\n",
    "RMSE12month = np.zeros(len(years_unique))\n",
    "\n",
    "for i, year in enumerate(years_unique):\n",
    "    X_year = X[co2['year'] != year]\n",
    "    y_year = y[co2['year'] != year]\n",
    "    \n",
    "    fcv = LinearGAM(s(0) + s(1, n_splines=12)).fit(X_year, y_year)\n",
    "    X_pred = X[co2['year'] == year]\n",
    "    pred = fcv.predict(X_pred)\n",
    "\n",
    "    RMSE12month[i] = sqrt(mean_squared_error(y[co2['year'] == year], pred))\n",
    "\n",
    "print(\"Mean RMSE (Yearly Cross-Validation):\", np.mean(RMSE12month))\n"
   ]
  },
  {
   "cell_type": "markdown",
   "id": "ddb22c18",
   "metadata": {},
   "source": [
    "### 2.5 Perform a 5-yearly block-cross-validation\n",
    "Hint: you can use the nifty trick of (i) subtracting 1954 from `co2$year` and (ii) then computing the integer remains of dividing by 5 (`%/% 5`), which will give you a vector from 1 to 7 for blocks of 5 years. (To look at the help for this function, type `?\"%/%\"`.)"
   ]
  },
  {
   "cell_type": "code",
   "execution_count": 17,
   "id": "6b5afecb",
   "metadata": {},
   "outputs": [
    {
     "name": "stdout",
     "output_type": "stream",
     "text": [
      "Mean RMSE (5-Year Block Cross-Validation): 0.6444179511515061\n"
     ]
    }
   ],
   "source": [
    "years5 = (co2['year'] - 1954) // 5\n",
    "\n",
    "blockIDs = np.unique(years5)\n",
    "RMSE60month = np.zeros(len(blockIDs))\n",
    "\n",
    "for i, blockID in enumerate(blockIDs):\n",
    "    X_block = X[years5 != blockID]\n",
    "    y_block = y[years5 != blockID]\n",
    "    \n",
    "    fcv = LinearGAM(s(0) + s(1, n_splines=12)).fit(X_block, y_block)\n",
    "    X_pred = X[years5 == blockID]\n",
    "    pred = fcv.predict(X_pred)\n",
    "    RMSE60month[i] = sqrt(mean_squared_error(y[years5 == blockID], pred))\n",
    "\n",
    "print(\"Mean RMSE (5-Year Block Cross-Validation):\", np.mean(RMSE60month))\n"
   ]
  },
  {
   "cell_type": "markdown",
   "id": "36cf0c65",
   "metadata": {},
   "source": [
    "### 2.6 Compare the three resulting estimates of predictability\n",
    "Plot RMSE as a function of 1 over the square root of training data sample size.\n"
   ]
  },
  {
   "cell_type": "code",
   "execution_count": 18,
   "id": "9f971cac",
   "metadata": {},
   "outputs": [
    {
     "data": {
      "image/png": "[encoded data removed]",
      "text/plain": [
       "<Figure size 500x500 with 1 Axes>"
      ]
     },
     "metadata": {},
     "output_type": "display_data"
    }
   ],
   "source": [
    "trainingN = [len(co2) - 1, len(co2) - 6, len(co2) - 12, len(co2) - 60]\n",
    "RMSEs = [np.mean(RMSE1month), np.mean(RMSE6month), np.mean(RMSE12month), np.mean(RMSE60month)]\n",
    "\n",
    "inv_sqrt_trainingN = [1 / np.sqrt(n) for n in trainingN]\n",
    "\n",
    "plt.figure(figsize=(5,5))\n",
    "plt.scatter(inv_sqrt_trainingN, RMSEs, marker='o', label='RMSE', color='blue')\n",
    "plt.axhline(y=residual_sd, color='grey', linestyle='--', linewidth=2, label='GAM')\n",
    "plt.xlabel('1 / sqrt(TrainingN)')\n",
    "plt.ylabel('RMSEs')\n",
    "plt.legend()\n",
    "plt.show()\n"
   ]
  },
  {
   "cell_type": "markdown",
   "id": "ef04486e",
   "metadata": {},
   "source": [
    "Note that we expect the error to increase *linearly* with 1 over the square root of sample size: $sem = \\text{RMSE}= s/\\sqrt{n}$ (i.e. a line through the origin with slope $s$, if we put 1/$\\sqrt{n}$ on the x-axis). The deviation from such a linear relationship indicates ... that it is not the sample size alone that causes the increase in RMSE as the cross-validation blocks get larger (and training sample size thus smaller)!\n",
    "\n",
    "We can compute the estimated underlying standard deviation by simply multiplying the square-root of training sample size onto the RMSE estimates. In principle, these values should be the same, if all cross-validation strategies were the same:"
   ]
  },
  {
   "cell_type": "code",
   "execution_count": 19,
   "id": "b17d62a7",
   "metadata": {},
   "outputs": [
    {
     "data": {
      "image/png": "[encoded data removed]",
      "text/plain": [
       "<Figure size 640x480 with 1 Axes>"
      ]
     },
     "metadata": {},
     "output_type": "display_data"
    }
   ],
   "source": [
    "\n",
    "RMSE_sqrt_trainingN = [rmse * np.sqrt(n) for rmse, n in zip(RMSEs, trainingN)]\n",
    "\n",
    "\n",
    "plt.scatter(inv_sqrt_trainingN, RMSEs, marker='o', label='RMSE', color='blue')\n",
    "plt.axhline(y=residual_sd, color='grey', linestyle='--', linewidth=2, label='GAM')\n",
    "plt.plot(inv_sqrt_trainingN, RMSE_sqrt_trainingN[0]*np.array(inv_sqrt_trainingN), color='red', label='')\n",
    "plt.plot(inv_sqrt_trainingN, RMSE_sqrt_trainingN[1]*np.array(inv_sqrt_trainingN), color='green')\n",
    "plt.plot(inv_sqrt_trainingN, RMSE_sqrt_trainingN[2]*np.array(inv_sqrt_trainingN), color='purple')\n",
    "plt.plot(inv_sqrt_trainingN, RMSE_sqrt_trainingN[3]*np.array(inv_sqrt_trainingN), color='orange')\n",
    "plt.xlabel('1 / sqrt(TrainingN)')\n",
    "plt.ylabel('RMSEs')\n",
    "plt.legend()\n",
    "plt.show()\n"
   ]
  },
  {
   "cell_type": "markdown",
   "id": "be00bfea",
   "metadata": {},
   "source": [
    "Instead we see that larger blocks, even when corrected for sample size effects, have larger uncertainty in their predictions.\n",
    "\n",
    "In other words: extrapolating substantially from the data is much more uncertain than interpolation within. Indeed, it is the two corner-cases (first block and last block omitted) that have the highest RMSEs:"
   ]
  },
  {
   "cell_type": "code",
   "execution_count": 20,
   "id": "d19ce618",
   "metadata": {},
   "outputs": [
    {
     "data": {
      "text/plain": [
       "array([0.36236237, 0.35099584, 0.50023479, 0.85834542, 0.43613471,\n",
       "       0.57106919, 1.43178334])"
      ]
     },
     "execution_count": 20,
     "metadata": {},
     "output_type": "execute_result"
    }
   ],
   "source": [
    "RMSE60month"
   ]
  },
  {
   "cell_type": "markdown",
   "id": "a1b52938",
   "metadata": {},
   "source": [
    "And that seems to be a consistent pattern:"
   ]
  },
  {
   "cell_type": "code",
   "execution_count": 21,
   "id": "6137ac7e",
   "metadata": {},
   "outputs": [
    {
     "data": {
      "text/plain": [
       "array([0.37150295, 0.29164459, 0.22520361, 0.25990562, 0.26579023,\n",
       "       0.32773631, 0.54266781, 0.35167643, 0.34924217, 0.21358024,\n",
       "       0.19546078, 0.39771038, 0.38207961, 0.68924797, 0.94983415,\n",
       "       0.23336313, 0.17681282, 0.4433755 , 0.29779233, 0.24190257,\n",
       "       0.29263274, 0.34781074, 0.34927632, 0.45721626, 0.46311473,\n",
       "       0.38565736, 0.30358763, 0.44033375, 0.55224722, 0.66391016,\n",
       "       0.30237858, 0.91510576])"
      ]
     },
     "execution_count": 21,
     "metadata": {},
     "output_type": "execute_result"
    }
   ],
   "source": [
    "RMSE12month"
   ]
  },
  {
   "cell_type": "markdown",
   "id": "534a5f90",
   "metadata": {},
   "source": [
    "Thus, when autocorrelation cannot leak efficiently into the validation data, predictions are more realistically estimated as uncertain than when the block size is too small."
   ]
  },
  {
   "cell_type": "code",
   "execution_count": null,
   "id": "f8da42b0",
   "metadata": {},
   "outputs": [],
   "source": [
    "# Bonus: For Binary, multi-response use AUC\n",
    "from sklearn.metrics import roc_auc_score\n",
    "\n",
    "auc = roc_auc_score(test_dataset['Responce_variable'], predicted)\n",
    "auc"
   ]
  }
 ],
 "metadata": {
  "kernelspec": {
   "display_name": "Python 3 (ipykernel)",
   "language": "python",
   "name": "python3"
  },
  "language_info": {
   "codemirror_mode": {
    "name": "ipython",
    "version": 3
   },
   "file_extension": ".py",
   "mimetype": "text/x-python",
   "name": "python",
   "nbconvert_exporter": "python",
   "pygments_lexer": "ipython3",
   "version": "3.11.7"
  }
 },
 "nbformat": 4,
 "nbformat_minor": 5
}
