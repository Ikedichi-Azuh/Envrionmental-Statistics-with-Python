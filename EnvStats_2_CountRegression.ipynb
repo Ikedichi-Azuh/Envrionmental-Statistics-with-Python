{
 "cells": [
  {
   "cell_type": "markdown",
   "id": "9ac3952a",
   "metadata": {},
   "source": [
    "<div class=\"alert alert-info\">\n",
    "<h1>Count Regression</h1>\n",
    "<h4>Environmental Statistics 2</h4>\n",
    "I.E. Azuh/C.F. Dormann\n",
    "</div>"
   ]
  },
  {
   "cell_type": "markdown",
   "id": "2a016dbf",
   "metadata": {},
   "source": [
    "In today's session on count regression, our focus lies on mastering the use of model dispersion to distinguish between Poisson and negative binomial distributions. Count regression models are essential for analyzing data where the outcome variable represents counts, such as the number of events or occurrences.\r\n",
    "\r\n",
    "By understanding model dispersion, we gain insights into the variability of count data and the appropriateness of different distributional assumptions. Specifically, we'll delve into techniques for assessing overdispersion, a common issue in count data analysis where the variance exceeds the mean.\r\n",
    "\r\n",
    "Through practical examples and hands-on exercises, we'll learn how to interpret model dispersion measures and make informed decisions about model selection. By the end of the session, participants will have a solid understanding of count regression techniques and the ability to effectively diagnose and address dispersion issues in their analyses. This knowledge is crucial for accurate modeling and interpretation of count data in various fields, including epidemiology, economics, and ecology.\n",
    " "
   ]
  },
  {
   "cell_type": "markdown",
   "id": "66a46285",
   "metadata": {},
   "source": [
    "### 1.0  Exercise 1 \n",
    "It is not always easy to find good environmental data, so here we resort to a political analysis of military coups in sub-Saharan Africa (since independence of many countries in 1989). "
   ]
  },
  {
   "cell_type": "code",
   "execution_count": 2,
   "id": "084c6f49",
   "metadata": {},
   "outputs": [],
   "source": [
    "# Call the necessary packages\n",
    "import pandas as pd\n",
    "import numpy as np\n",
    "import matplotlib.pyplot as plt\n",
    "import seaborn as sns\n",
    "import statsmodels.api as sm\n",
    "import statsmodels.formula.api as smf\n",
    "from patsy import dmatrices\n",
    "import scipy\n"
   ]
  },
  {
   "cell_type": "code",
   "execution_count": 4,
   "id": "fbdd1389-718f-4de3-872c-734d176a4679",
   "metadata": {},
   "outputs": [
    {
     "data": {
      "text/html": [
       "<div>\n",
       "<style scoped>\n",
       "    .dataframe tbody tr th:only-of-type {\n",
       "        vertical-align: middle;\n",
       "    }\n",
       "\n",
       "    .dataframe tbody tr th {\n",
       "        vertical-align: top;\n",
       "    }\n",
       "\n",
       "    .dataframe thead th {\n",
       "        text-align: right;\n",
       "    }\n",
       "</style>\n",
       "<table border=\"1\" class=\"dataframe\">\n",
       "  <thead>\n",
       "    <tr style=\"text-align: right;\">\n",
       "      <th></th>\n",
       "      <th>miltcoup</th>\n",
       "      <th>oligarchy</th>\n",
       "      <th>pollib</th>\n",
       "      <th>parties</th>\n",
       "      <th>pctvote</th>\n",
       "      <th>popn</th>\n",
       "      <th>size</th>\n",
       "      <th>numelec</th>\n",
       "      <th>numregim</th>\n",
       "    </tr>\n",
       "  </thead>\n",
       "  <tbody>\n",
       "    <tr>\n",
       "      <th>count</th>\n",
       "      <td>47.000000</td>\n",
       "      <td>47.000000</td>\n",
       "      <td>42.000000</td>\n",
       "      <td>47.000000</td>\n",
       "      <td>41.000000</td>\n",
       "      <td>47.000000</td>\n",
       "      <td>47.000000</td>\n",
       "      <td>47.000000</td>\n",
       "      <td>47.000000</td>\n",
       "    </tr>\n",
       "    <tr>\n",
       "      <th>mean</th>\n",
       "      <td>1.404255</td>\n",
       "      <td>4.446809</td>\n",
       "      <td>1.666667</td>\n",
       "      <td>15.957447</td>\n",
       "      <td>31.881220</td>\n",
       "      <td>10.953064</td>\n",
       "      <td>516.712766</td>\n",
       "      <td>6.191489</td>\n",
       "      <td>2.510638</td>\n",
       "    </tr>\n",
       "    <tr>\n",
       "      <th>std</th>\n",
       "      <td>1.715144</td>\n",
       "      <td>5.751403</td>\n",
       "      <td>0.570266</td>\n",
       "      <td>11.458730</td>\n",
       "      <td>17.465135</td>\n",
       "      <td>18.558382</td>\n",
       "      <td>591.161189</td>\n",
       "      <td>3.876564</td>\n",
       "      <td>1.018787</td>\n",
       "    </tr>\n",
       "    <tr>\n",
       "      <th>min</th>\n",
       "      <td>0.000000</td>\n",
       "      <td>0.000000</td>\n",
       "      <td>0.000000</td>\n",
       "      <td>0.000000</td>\n",
       "      <td>0.000000</td>\n",
       "      <td>0.067000</td>\n",
       "      <td>0.500000</td>\n",
       "      <td>0.000000</td>\n",
       "      <td>1.000000</td>\n",
       "    </tr>\n",
       "    <tr>\n",
       "      <th>25%</th>\n",
       "      <td>0.000000</td>\n",
       "      <td>0.000000</td>\n",
       "      <td>1.000000</td>\n",
       "      <td>10.000000</td>\n",
       "      <td>18.900000</td>\n",
       "      <td>1.450000</td>\n",
       "      <td>33.000000</td>\n",
       "      <td>4.000000</td>\n",
       "      <td>2.000000</td>\n",
       "    </tr>\n",
       "    <tr>\n",
       "      <th>50%</th>\n",
       "      <td>1.000000</td>\n",
       "      <td>1.000000</td>\n",
       "      <td>2.000000</td>\n",
       "      <td>13.000000</td>\n",
       "      <td>28.950000</td>\n",
       "      <td>5.600000</td>\n",
       "      <td>274.000000</td>\n",
       "      <td>6.000000</td>\n",
       "      <td>3.000000</td>\n",
       "    </tr>\n",
       "    <tr>\n",
       "      <th>75%</th>\n",
       "      <td>2.000000</td>\n",
       "      <td>9.000000</td>\n",
       "      <td>2.000000</td>\n",
       "      <td>19.000000</td>\n",
       "      <td>43.040000</td>\n",
       "      <td>11.450000</td>\n",
       "      <td>813.000000</td>\n",
       "      <td>8.500000</td>\n",
       "      <td>3.000000</td>\n",
       "    </tr>\n",
       "    <tr>\n",
       "      <th>max</th>\n",
       "      <td>6.000000</td>\n",
       "      <td>18.000000</td>\n",
       "      <td>2.000000</td>\n",
       "      <td>62.000000</td>\n",
       "      <td>77.400000</td>\n",
       "      <td>113.800000</td>\n",
       "      <td>2506.000000</td>\n",
       "      <td>14.000000</td>\n",
       "      <td>4.000000</td>\n",
       "    </tr>\n",
       "  </tbody>\n",
       "</table>\n",
       "</div>"
      ],
      "text/plain": [
       "        miltcoup  oligarchy     pollib    parties    pctvote        popn  \\\n",
       "count  47.000000  47.000000  42.000000  47.000000  41.000000   47.000000   \n",
       "mean    1.404255   4.446809   1.666667  15.957447  31.881220   10.953064   \n",
       "std     1.715144   5.751403   0.570266  11.458730  17.465135   18.558382   \n",
       "min     0.000000   0.000000   0.000000   0.000000   0.000000    0.067000   \n",
       "25%     0.000000   0.000000   1.000000  10.000000  18.900000    1.450000   \n",
       "50%     1.000000   1.000000   2.000000  13.000000  28.950000    5.600000   \n",
       "75%     2.000000   9.000000   2.000000  19.000000  43.040000   11.450000   \n",
       "max     6.000000  18.000000   2.000000  62.000000  77.400000  113.800000   \n",
       "\n",
       "              size    numelec   numregim  \n",
       "count    47.000000  47.000000  47.000000  \n",
       "mean    516.712766   6.191489   2.510638  \n",
       "std     591.161189   3.876564   1.018787  \n",
       "min       0.500000   0.000000   1.000000  \n",
       "25%      33.000000   4.000000   2.000000  \n",
       "50%     274.000000   6.000000   3.000000  \n",
       "75%     813.000000   8.500000   3.000000  \n",
       "max    2506.000000  14.000000   4.000000  "
      ]
     },
     "execution_count": 4,
     "metadata": {},
     "output_type": "execute_result"
    }
   ],
   "source": [
    "# call dataset\n",
    "africa = pd.read_csv(\"africa.csv\")\n",
    "\n",
    "# Reset the index by replacing with country\n",
    "africa = africa.set_index('country')\n",
    "africa.describe()"
   ]
  },
  {
   "cell_type": "code",
   "execution_count": 3,
   "id": "5a670b1d-da1d-45a3-a4f2-2e3a881382df",
   "metadata": {},
   "outputs": [
    {
     "data": {
      "text/html": [
       "<div>\n",
       "<style scoped>\n",
       "    .dataframe tbody tr th:only-of-type {\n",
       "        vertical-align: middle;\n",
       "    }\n",
       "\n",
       "    .dataframe tbody tr th {\n",
       "        vertical-align: top;\n",
       "    }\n",
       "\n",
       "    .dataframe thead th {\n",
       "        text-align: right;\n",
       "    }\n",
       "</style>\n",
       "<table border=\"1\" class=\"dataframe\">\n",
       "  <thead>\n",
       "    <tr style=\"text-align: right;\">\n",
       "      <th></th>\n",
       "      <th>miltcoup</th>\n",
       "      <th>oligarchy</th>\n",
       "      <th>pollib</th>\n",
       "      <th>parties</th>\n",
       "      <th>pctvote</th>\n",
       "      <th>popn</th>\n",
       "      <th>size</th>\n",
       "      <th>numelec</th>\n",
       "      <th>numregim</th>\n",
       "    </tr>\n",
       "    <tr>\n",
       "      <th>country</th>\n",
       "      <th></th>\n",
       "      <th></th>\n",
       "      <th></th>\n",
       "      <th></th>\n",
       "      <th></th>\n",
       "      <th></th>\n",
       "      <th></th>\n",
       "      <th></th>\n",
       "      <th></th>\n",
       "    </tr>\n",
       "  </thead>\n",
       "  <tbody>\n",
       "    <tr>\n",
       "      <th>Angola</th>\n",
       "      <td>0</td>\n",
       "      <td>0</td>\n",
       "      <td>2.0</td>\n",
       "      <td>38</td>\n",
       "      <td>NaN</td>\n",
       "      <td>9.7</td>\n",
       "      <td>1247.0</td>\n",
       "      <td>0</td>\n",
       "      <td>1</td>\n",
       "    </tr>\n",
       "    <tr>\n",
       "      <th>Benin</th>\n",
       "      <td>5</td>\n",
       "      <td>7</td>\n",
       "      <td>1.0</td>\n",
       "      <td>34</td>\n",
       "      <td>45.68</td>\n",
       "      <td>4.6</td>\n",
       "      <td>113.0</td>\n",
       "      <td>8</td>\n",
       "      <td>3</td>\n",
       "    </tr>\n",
       "    <tr>\n",
       "      <th>Botswana</th>\n",
       "      <td>0</td>\n",
       "      <td>0</td>\n",
       "      <td>NaN</td>\n",
       "      <td>7</td>\n",
       "      <td>20.30</td>\n",
       "      <td>1.2</td>\n",
       "      <td>582.0</td>\n",
       "      <td>5</td>\n",
       "      <td>1</td>\n",
       "    </tr>\n",
       "    <tr>\n",
       "      <th>Burkina</th>\n",
       "      <td>6</td>\n",
       "      <td>13</td>\n",
       "      <td>2.0</td>\n",
       "      <td>62</td>\n",
       "      <td>17.50</td>\n",
       "      <td>8.8</td>\n",
       "      <td>274.0</td>\n",
       "      <td>5</td>\n",
       "      <td>3</td>\n",
       "    </tr>\n",
       "    <tr>\n",
       "      <th>Burundi</th>\n",
       "      <td>2</td>\n",
       "      <td>13</td>\n",
       "      <td>2.0</td>\n",
       "      <td>10</td>\n",
       "      <td>34.39</td>\n",
       "      <td>5.3</td>\n",
       "      <td>28.0</td>\n",
       "      <td>3</td>\n",
       "      <td>3</td>\n",
       "    </tr>\n",
       "  </tbody>\n",
       "</table>\n",
       "</div>"
      ],
      "text/plain": [
       "          miltcoup  oligarchy  pollib  parties  pctvote  popn    size  \\\n",
       "country                                                                 \n",
       "Angola           0          0     2.0       38      NaN   9.7  1247.0   \n",
       "Benin            5          7     1.0       34    45.68   4.6   113.0   \n",
       "Botswana         0          0     NaN        7    20.30   1.2   582.0   \n",
       "Burkina          6         13     2.0       62    17.50   8.8   274.0   \n",
       "Burundi          2         13     2.0       10    34.39   5.3    28.0   \n",
       "\n",
       "          numelec  numregim  \n",
       "country                      \n",
       "Angola          0         1  \n",
       "Benin           8         3  \n",
       "Botswana        5         1  \n",
       "Burkina         5         3  \n",
       "Burundi         3         3  "
      ]
     },
     "execution_count": 3,
     "metadata": {},
     "output_type": "execute_result"
    }
   ],
   "source": [
    "africa.head()"
   ]
  },
  {
   "cell_type": "markdown",
   "id": "b2d2c54e",
   "metadata": {},
   "source": [
    "### 1.1  Plot data\n",
    "Plot the effect of number of successful military coups (‘miltcoup’) as a function of number of years ruled by military (since 1989)."
   ]
  },
  {
   "cell_type": "code",
   "execution_count": 5,
   "id": "31b78f5b",
   "metadata": {},
   "outputs": [
    {
     "data": {
      "image/png": "[encoded data removed]",
      "text/plain": [
       "<Figure size 640x480 with 1 Axes>"
      ]
     },
     "metadata": {},
     "output_type": "display_data"
    }
   ],
   "source": [
    "# The plot\n",
    "plt.scatter(x=\"oligarchy\", y=\"miltcoup\", data=africa)\n",
    "plt.xlabel(\"Oligarchy\")\n",
    "plt.ylabel(\"Miltcoup\")\n",
    "plt.show()"
   ]
  },
  {
   "cell_type": "markdown",
   "id": "14d90666",
   "metadata": {},
   "source": [
    "### 1.2  Plot data with transformed data\n",
    "Both variables are count data, and often they benefit from square-root or logarithmic transformation. The reason is that the Poisson and negative binomial distribution are right-skewed and hence such a transformation makes the variables more akin to the symmetric distribution our eyes are used to. (Of course there is nothing wrong with plotting the data as they are!) <br>\n",
    "Also count distributions typically use a logarithmic link, and hence such a transformation would simulate what the y-axis looks like at the link scale. (Note that for any base 𝑏: log<sub>b</sub> 0 = −$\\infty$, hence it is common to see a value of 1 added to the response variable for plotting only.)\n"
   ]
  },
  {
   "cell_type": "code",
   "execution_count": 6,
   "id": "e74936f4",
   "metadata": {},
   "outputs": [
    {
     "data": {
      "image/png": "[encoded data removed]",
      "text/plain": [
       "<Figure size 640x480 with 1 Axes>"
      ]
     },
     "metadata": {},
     "output_type": "display_data"
    }
   ],
   "source": [
    "# log root Transformed miltcoup\n",
    "# square root Transformed oligarchy\n",
    "\n",
    "# the plot\n",
    "\n",
    "plt.scatter(x=np.sqrt(africa['oligarchy']), y=np.log(africa['miltcoup']+1))\n",
    "plt.xlabel(\"sqrt(Oligarchy)\")\n",
    "plt.ylabel(\"sqrt(Miltcoup)\")\n",
    "plt.show()"
   ]
  },
  {
   "cell_type": "markdown",
   "id": "2a32134d",
   "metadata": {},
   "source": [
    "### 1.3  Analyse, assuming a Poisson distribution\n",
    "Analyse effect of square-root transformed years of military oligarchy on military coups, assuming a Poisson distribution (for the response)."
   ]
  },
  {
   "cell_type": "code",
   "execution_count": 8,
   "id": "4ffbb1b5",
   "metadata": {},
   "outputs": [
    {
     "data": {
      "text/html": [
       "<table class=\"simpletable\">\n",
       "<caption>Generalized Linear Model Regression Results</caption>\n",
       "<tr>\n",
       "  <th>Dep. Variable:</th>       <td>miltcoup</td>     <th>  No. Observations:  </th>  <td>    47</td> \n",
       "</tr>\n",
       "<tr>\n",
       "  <th>Model:</th>                  <td>GLM</td>       <th>  Df Residuals:      </th>  <td>    45</td> \n",
       "</tr>\n",
       "<tr>\n",
       "  <th>Model Family:</th>         <td>Poisson</td>     <th>  Df Model:          </th>  <td>     1</td> \n",
       "</tr>\n",
       "<tr>\n",
       "  <th>Link Function:</th>          <td>Log</td>       <th>  Scale:             </th> <td>  1.0000</td>\n",
       "</tr>\n",
       "<tr>\n",
       "  <th>Method:</th>                <td>IRLS</td>       <th>  Log-Likelihood:    </th> <td> -61.504</td>\n",
       "</tr>\n",
       "<tr>\n",
       "  <th>Date:</th>            <td>Mon, 18 Mar 2024</td> <th>  Deviance:          </th> <td>  49.329</td>\n",
       "</tr>\n",
       "<tr>\n",
       "  <th>Time:</th>                <td>11:50:07</td>     <th>  Pearson chi2:      </th>  <td>  48.6</td> \n",
       "</tr>\n",
       "<tr>\n",
       "  <th>No. Iterations:</th>          <td>5</td>        <th>  Pseudo R-squ. (CS):</th>  <td>0.6132</td> \n",
       "</tr>\n",
       "<tr>\n",
       "  <th>Covariance Type:</th>     <td>nonrobust</td>    <th>                     </th>     <td> </td>   \n",
       "</tr>\n",
       "</table>\n",
       "<table class=\"simpletable\">\n",
       "<tr>\n",
       "           <td></td>             <th>coef</th>     <th>std err</th>      <th>z</th>      <th>P>|z|</th>  <th>[0.025</th>    <th>0.975]</th>  \n",
       "</tr>\n",
       "<tr>\n",
       "  <th>Intercept</th>          <td>   -0.7901</td> <td>    0.269</td> <td>   -2.935</td> <td> 0.003</td> <td>   -1.318</td> <td>   -0.262</td>\n",
       "</tr>\n",
       "<tr>\n",
       "  <th>np.sqrt(oligarchy)</th> <td>    0.5399</td> <td>    0.088</td> <td>    6.131</td> <td> 0.000</td> <td>    0.367</td> <td>    0.713</td>\n",
       "</tr>\n",
       "</table>"
      ],
      "text/latex": [
       "\\begin{center}\n",
       "\\begin{tabular}{lclc}\n",
       "\\toprule\n",
       "\\textbf{Dep. Variable:}     &     miltcoup     & \\textbf{  No. Observations:  } &       47    \\\\\n",
       "\\textbf{Model:}             &       GLM        & \\textbf{  Df Residuals:      } &       45    \\\\\n",
       "\\textbf{Model Family:}      &     Poisson      & \\textbf{  Df Model:          } &        1    \\\\\n",
       "\\textbf{Link Function:}     &       Log        & \\textbf{  Scale:             } &    1.0000   \\\\\n",
       "\\textbf{Method:}            &       IRLS       & \\textbf{  Log-Likelihood:    } &   -61.504   \\\\\n",
       "\\textbf{Date:}              & Mon, 18 Mar 2024 & \\textbf{  Deviance:          } &    49.329   \\\\\n",
       "\\textbf{Time:}              &     11:50:07     & \\textbf{  Pearson chi2:      } &     48.6    \\\\\n",
       "\\textbf{No. Iterations:}    &        5         & \\textbf{  Pseudo R-squ. (CS):} &   0.6132    \\\\\n",
       "\\textbf{Covariance Type:}   &    nonrobust     & \\textbf{                     } &             \\\\\n",
       "\\bottomrule\n",
       "\\end{tabular}\n",
       "\\begin{tabular}{lcccccc}\n",
       "                            & \\textbf{coef} & \\textbf{std err} & \\textbf{z} & \\textbf{P$> |$z$|$} & \\textbf{[0.025} & \\textbf{0.975]}  \\\\\n",
       "\\midrule\n",
       "\\textbf{Intercept}          &      -0.7901  &        0.269     &    -2.935  &         0.003        &       -1.318    &       -0.262     \\\\\n",
       "\\textbf{np.sqrt(oligarchy)} &       0.5399  &        0.088     &     6.131  &         0.000        &        0.367    &        0.713     \\\\\n",
       "\\bottomrule\n",
       "\\end{tabular}\n",
       "%\\caption{Generalized Linear Model Regression Results}\n",
       "\\end{center}"
      ],
      "text/plain": [
       "<class 'statsmodels.iolib.summary.Summary'>\n",
       "\"\"\"\n",
       "                 Generalized Linear Model Regression Results                  \n",
       "==============================================================================\n",
       "Dep. Variable:               miltcoup   No. Observations:                   47\n",
       "Model:                            GLM   Df Residuals:                       45\n",
       "Model Family:                 Poisson   Df Model:                            1\n",
       "Link Function:                    Log   Scale:                          1.0000\n",
       "Method:                          IRLS   Log-Likelihood:                -61.504\n",
       "Date:                Mon, 18 Mar 2024   Deviance:                       49.329\n",
       "Time:                        11:50:07   Pearson chi2:                     48.6\n",
       "No. Iterations:                     5   Pseudo R-squ. (CS):             0.6132\n",
       "Covariance Type:            nonrobust                                         \n",
       "======================================================================================\n",
       "                         coef    std err          z      P>|z|      [0.025      0.975]\n",
       "--------------------------------------------------------------------------------------\n",
       "Intercept             -0.7901      0.269     -2.935      0.003      -1.318      -0.262\n",
       "np.sqrt(oligarchy)     0.5399      0.088      6.131      0.000       0.367       0.713\n",
       "======================================================================================\n",
       "\"\"\""
      ]
     },
     "execution_count": 8,
     "metadata": {},
     "output_type": "execute_result"
    }
   ],
   "source": [
    "expr = \"\"\"miltcoup ~ np.sqrt(oligarchy)\"\"\"\n",
    "\n",
    "y, X = dmatrices(expr, africa, return_type='dataframe')\n",
    "\n",
    "\n",
    "# Poisson \n",
    "fpois = sm.GLM(y, X, family=sm.families.Poisson()).fit()\n",
    "fpois.summary()\n"
   ]
  },
  {
   "cell_type": "markdown",
   "id": "cd5e3aae",
   "metadata": {},
   "source": [
    "### 1.4   What does the dispersion look like?"
   ]
  },
  {
   "cell_type": "code",
   "execution_count": 9,
   "id": "915b1913",
   "metadata": {},
   "outputs": [
    {
     "data": {
      "text/plain": [
       "1.0961894810369244"
      ]
     },
     "execution_count": 9,
     "metadata": {},
     "output_type": "execute_result"
    }
   ],
   "source": [
    "# dispersion\n",
    "fpois.deviance/fpois.df_resid\n"
   ]
  },
  {
   "cell_type": "markdown",
   "id": "69b2becd",
   "metadata": {},
   "source": [
    "*Answer*: Looks good!"
   ]
  },
  {
   "cell_type": "markdown",
   "id": "7735d233",
   "metadata": {},
   "source": [
    "### 1.5  Analyse, assuming a negative binomial distribution\n",
    "Poisson model was good, nevertheless, run an analysis assuming a negative binomial distribution."
   ]
  },
  {
   "cell_type": "markdown",
   "id": "efb41e62-22f9-474f-ae3e-5415abc4cdf3",
   "metadata": {},
   "source": [
    "**First: what alpha value to use?** <br>\n",
    "Before fitting the Negative binomial, we need to first estimate the what `alpha` value to use? To achieve this, we do the following:\n",
    "\n",
    "1.  Extract the `fpois.mu` as λ vector from the regression results and add as a new column called ‘my_lambda’ to the DataFrame.\n",
    "2.  Next, add the expression [(Yi-λi)^2-λi]/λi =  α*λi + 0. This new column will store the values of the dependent variable of the OLS regression.\n",
    "3.  Fit OLS regression of `lambda` on `ols_expression` without intercept, and obtain alpha value from (`OLSResults.params`).\n",
    "4.  The OLSResults object contains the t-score of the regression coefficient α (`OLSResults.tvalues`). "
   ]
  },
  {
   "cell_type": "code",
   "execution_count": 14,
   "id": "bbd049b0",
   "metadata": {},
   "outputs": [
    {
     "name": "stdout",
     "output_type": "stream",
     "text": [
      "The alpha value is : lambda_    0.047552\n",
      "dtype: float64\n",
      "The t-value is : lambda_    0.454674\n",
      "dtype: float64\n"
     ]
    }
   ],
   "source": [
    "# 1.\n",
    "africa2 = africa.copy()\n",
    "africa2['lambda_'] = fpois.mu\n",
    "\n",
    "# 2.\n",
    "africa2['ols_dep'] = africa2.apply(lambda x: ((x['miltcoup'] - x['lambda_'])**2 - x['lambda_']) / x['lambda_'], axis=1)\n",
    "\n",
    "# 3.\n",
    "ols_expr = \"\"\"ols_dep ~ lambda_ - 1\"\"\"  # do not to use an intercept of regression\n",
    "olsr_results = smf.ols(ols_expr, africa2).fit()\n",
    "print(\"The alpha value is :\" ,olsr_results.params)\n",
    "\n",
    "# 4.\n",
    "print(\"The t-value is :\" ,olsr_results.tvalues)\n"
   ]
  },
  {
   "cell_type": "markdown",
   "id": "41e92497-3515-4708-8b6e-aa8818a1bae5",
   "metadata": {},
   "source": [
    "Here our α=0.047552. Recall that the variance formular is Var = mu + α*mu, so if α=0, then variance will be = mean.\n",
    "If the value of α is statistically not significant, then the Negative Binomial regression model cannot do a better job of fitting the training data set than a Poisson regression model.\n",
    "We see that the alpha value (0.047552) is comfortably less than the t-statistic of α which was 0.454674.\n",
    "We conclude that, α = 0.047552 is statistically significantly."
   ]
  },
  {
   "cell_type": "code",
   "execution_count": 8,
   "id": "53019888",
   "metadata": {},
   "outputs": [
    {
     "data": {
      "text/html": [
       "<table class=\"simpletable\">\n",
       "<caption>Generalized Linear Model Regression Results</caption>\n",
       "<tr>\n",
       "  <th>Dep. Variable:</th>       <td>miltcoup</td>     <th>  No. Observations:  </th>  <td>    47</td> \n",
       "</tr>\n",
       "<tr>\n",
       "  <th>Model:</th>                  <td>GLM</td>       <th>  Df Residuals:      </th>  <td>    45</td> \n",
       "</tr>\n",
       "<tr>\n",
       "  <th>Model Family:</th>    <td>NegativeBinomial</td> <th>  Df Model:          </th>  <td>     1</td> \n",
       "</tr>\n",
       "<tr>\n",
       "  <th>Link Function:</th>          <td>Log</td>       <th>  Scale:             </th> <td>  1.0000</td>\n",
       "</tr>\n",
       "<tr>\n",
       "  <th>Method:</th>                <td>IRLS</td>       <th>  Log-Likelihood:    </th> <td> -61.403</td>\n",
       "</tr>\n",
       "<tr>\n",
       "  <th>Date:</th>            <td>Fri, 08 Mar 2024</td> <th>  Deviance:          </th> <td>  46.052</td>\n",
       "</tr>\n",
       "<tr>\n",
       "  <th>Time:</th>                <td>12:14:33</td>     <th>  Pearson chi2:      </th>  <td>  45.4</td> \n",
       "</tr>\n",
       "<tr>\n",
       "  <th>No. Iterations:</th>          <td>5</td>        <th>  Pseudo R-squ. (CS):</th>  <td>0.5891</td> \n",
       "</tr>\n",
       "<tr>\n",
       "  <th>Covariance Type:</th>     <td>nonrobust</td>    <th>                     </th>     <td> </td>   \n",
       "</tr>\n",
       "</table>\n",
       "<table class=\"simpletable\">\n",
       "<tr>\n",
       "           <td></td>             <th>coef</th>     <th>std err</th>      <th>z</th>      <th>P>|z|</th>  <th>[0.025</th>    <th>0.975]</th>  \n",
       "</tr>\n",
       "<tr>\n",
       "  <th>Intercept</th>          <td>   -0.7983</td> <td>    0.275</td> <td>   -2.904</td> <td> 0.004</td> <td>   -1.337</td> <td>   -0.260</td>\n",
       "</tr>\n",
       "<tr>\n",
       "  <th>np.sqrt(oligarchy)</th> <td>    0.5439</td> <td>    0.091</td> <td>    5.948</td> <td> 0.000</td> <td>    0.365</td> <td>    0.723</td>\n",
       "</tr>\n",
       "</table>"
      ],
      "text/latex": [
       "\\begin{center}\n",
       "\\begin{tabular}{lclc}\n",
       "\\toprule\n",
       "\\textbf{Dep. Variable:}     &     miltcoup     & \\textbf{  No. Observations:  } &       47    \\\\\n",
       "\\textbf{Model:}             &       GLM        & \\textbf{  Df Residuals:      } &       45    \\\\\n",
       "\\textbf{Model Family:}      & NegativeBinomial & \\textbf{  Df Model:          } &        1    \\\\\n",
       "\\textbf{Link Function:}     &       Log        & \\textbf{  Scale:             } &    1.0000   \\\\\n",
       "\\textbf{Method:}            &       IRLS       & \\textbf{  Log-Likelihood:    } &   -61.403   \\\\\n",
       "\\textbf{Date:}              & Fri, 08 Mar 2024 & \\textbf{  Deviance:          } &    46.052   \\\\\n",
       "\\textbf{Time:}              &     12:14:33     & \\textbf{  Pearson chi2:      } &     45.4    \\\\\n",
       "\\textbf{No. Iterations:}    &        5         & \\textbf{  Pseudo R-squ. (CS):} &   0.5891    \\\\\n",
       "\\textbf{Covariance Type:}   &    nonrobust     & \\textbf{                     } &             \\\\\n",
       "\\bottomrule\n",
       "\\end{tabular}\n",
       "\\begin{tabular}{lcccccc}\n",
       "                            & \\textbf{coef} & \\textbf{std err} & \\textbf{z} & \\textbf{P$> |$z$|$} & \\textbf{[0.025} & \\textbf{0.975]}  \\\\\n",
       "\\midrule\n",
       "\\textbf{Intercept}          &      -0.7983  &        0.275     &    -2.904  &         0.004        &       -1.337    &       -0.260     \\\\\n",
       "\\textbf{np.sqrt(oligarchy)} &       0.5439  &        0.091     &     5.948  &         0.000        &        0.365    &        0.723     \\\\\n",
       "\\bottomrule\n",
       "\\end{tabular}\n",
       "%\\caption{Generalized Linear Model Regression Results}\n",
       "\\end{center}"
      ],
      "text/plain": [
       "<class 'statsmodels.iolib.summary.Summary'>\n",
       "\"\"\"\n",
       "                 Generalized Linear Model Regression Results                  \n",
       "==============================================================================\n",
       "Dep. Variable:               miltcoup   No. Observations:                   47\n",
       "Model:                            GLM   Df Residuals:                       45\n",
       "Model Family:        NegativeBinomial   Df Model:                            1\n",
       "Link Function:                    Log   Scale:                          1.0000\n",
       "Method:                          IRLS   Log-Likelihood:                -61.403\n",
       "Date:                Fri, 08 Mar 2024   Deviance:                       46.052\n",
       "Time:                        12:14:33   Pearson chi2:                     45.4\n",
       "No. Iterations:                     5   Pseudo R-squ. (CS):             0.5891\n",
       "Covariance Type:            nonrobust                                         \n",
       "======================================================================================\n",
       "                         coef    std err          z      P>|z|      [0.025      0.975]\n",
       "--------------------------------------------------------------------------------------\n",
       "Intercept             -0.7983      0.275     -2.904      0.004      -1.337      -0.260\n",
       "np.sqrt(oligarchy)     0.5439      0.091      5.948      0.000       0.365       0.723\n",
       "======================================================================================\n",
       "\"\"\""
      ]
     },
     "execution_count": 8,
     "metadata": {},
     "output_type": "execute_result"
    }
   ],
   "source": [
    "# Negative binomial\n",
    "\n",
    "fnb = sm.GLM(y, X, family=sm.families.NegativeBinomial(alpha=0.05)).fit() \n",
    "fnb.summary() \n"
   ]
  },
  {
   "cell_type": "markdown",
   "id": "fd6ad0b6",
   "metadata": {},
   "source": [
    "#### BONUS! : Assuming generalized poisson"
   ]
  },
  {
   "cell_type": "code",
   "execution_count": 9,
   "id": "a338dc47",
   "metadata": {},
   "outputs": [
    {
     "name": "stdout",
     "output_type": "stream",
     "text": [
      "Optimization terminated successfully.\n",
      "         Current function value: 1.305874\n",
      "         Iterations: 8\n",
      "         Function evaluations: 11\n",
      "         Gradient evaluations: 11\n",
      "                    GeneralizedPoisson Regression Results                     \n",
      "==============================================================================\n",
      "Dep. Variable:               miltcoup   No. Observations:                   47\n",
      "Model:             GeneralizedPoisson   Df Residuals:                       45\n",
      "Method:                           MLE   Df Model:                            1\n",
      "Date:                Fri, 08 Mar 2024   Pseudo R-squ.:                  0.1992\n",
      "Time:                        12:14:49   Log-Likelihood:                -61.376\n",
      "converged:                       True   LL-Null:                       -76.640\n",
      "Covariance Type:            nonrobust   LLR p-value:                 3.290e-08\n",
      "======================================================================================\n",
      "                         coef    std err          z      P>|z|      [0.025      0.975]\n",
      "--------------------------------------------------------------------------------------\n",
      "Intercept             -0.7904      0.283     -2.790      0.005      -1.346      -0.235\n",
      "np.sqrt(oligarchy)     0.5401      0.092      5.839      0.000       0.359       0.721\n",
      "alpha                  0.0604      0.128      0.471      0.638      -0.191       0.312\n",
      "======================================================================================\n"
     ]
    }
   ],
   "source": [
    "# GP-1\n",
    "gen_pois_gp1 = sm.GeneralizedPoisson(y, X, p=1).fit()\n",
    "\n",
    "print(gen_pois_gp1.summary())"
   ]
  },
  {
   "cell_type": "code",
   "execution_count": 10,
   "id": "18dd2e01",
   "metadata": {},
   "outputs": [
    {
     "name": "stdout",
     "output_type": "stream",
     "text": [
      "Optimization terminated successfully.\n",
      "         Current function value: 1.306481\n",
      "         Iterations: 10\n",
      "         Function evaluations: 15\n",
      "         Gradient evaluations: 15\n",
      "                    GeneralizedPoisson Regression Results                     \n",
      "==============================================================================\n",
      "Dep. Variable:               miltcoup   No. Observations:                   47\n",
      "Model:             GeneralizedPoisson   Df Residuals:                       45\n",
      "Method:                           MLE   Df Model:                            1\n",
      "Date:                Fri, 08 Mar 2024   Pseudo R-squ.:                  0.1988\n",
      "Time:                        12:15:04   Log-Likelihood:                -61.405\n",
      "converged:                       True   LL-Null:                       -76.640\n",
      "Covariance Type:            nonrobust   LLR p-value:                 3.388e-08\n",
      "======================================================================================\n",
      "                         coef    std err          z      P>|z|      [0.025      0.975]\n",
      "--------------------------------------------------------------------------------------\n",
      "Intercept             -0.7994      0.276     -2.893      0.004      -1.341      -0.258\n",
      "np.sqrt(oligarchy)     0.5445      0.093      5.864      0.000       0.363       0.727\n",
      "alpha                  0.0278      0.067      0.417      0.676      -0.103       0.158\n",
      "======================================================================================\n"
     ]
    }
   ],
   "source": [
    "# GP-2\n",
    "gen_pois_gp2 = sm.GeneralizedPoisson(y, X, p=2).fit()\n",
    "\n",
    "print(gen_pois_gp2.summary())"
   ]
  },
  {
   "cell_type": "markdown",
   "id": "95968123",
   "metadata": {},
   "source": [
    "What are the values for dispersion, and, importantly, for the scale-parameter “alpha”? Remember that lim<sub>alpha → 0 </sub>, negative binomial = Poisson. For all practical purposes, values < 0.01 or so can be considered “almost zero”."
   ]
  },
  {
   "cell_type": "markdown",
   "id": "7ee1fd14",
   "metadata": {},
   "source": [
    "### 1.6   Compare Poisson and negative binomial fit\n",
    "So which fit is better?. Do a formal comparison using AIC and a likelihood-ratio test (LRT). Maybe you now realise that the LRT was a trick question! The likelihood-ratio test assumes that the two models compared are nested. You can do the LRT manually,\n",
    "by computing the log-likelihoods of both models and compute the p-value based on a 𝜒2 - distribution with one degree of freedom:"
   ]
  },
  {
   "cell_type": "code",
   "execution_count": 11,
   "id": "6c235c76",
   "metadata": {},
   "outputs": [
    {
     "name": "stdout",
     "output_type": "stream",
     "text": [
      "AIC(fpois) =  127.0086\n",
      "AIC(fnb)   =  126.8069\n",
      "\n",
      "Chi-Squared test statistic is  0.2018\n",
      "The p_value for the test statistic is  0.6533\n"
     ]
    }
   ],
   "source": [
    "# Compare the aic of the models\n",
    "\n",
    "print('AIC(fpois) = ', round(fpois.aic, 4))\n",
    "print('AIC(fnb)   = ', round(fnb.aic, 4))\n",
    "\n",
    "# calculate log-likelihood of the models of interest\n",
    "fpois_ll = fpois.llf\n",
    "fnb_ll = fnb.llf\n",
    "\n",
    "# calculate likelihood ratio Chi-Squared test statistic\n",
    "LR_statistic = -2*(fpois_ll-fnb_ll)\n",
    "\n",
    "#calculate p-value of test statistic using 1 degrees of freedom\n",
    "p_val = scipy.stats.chi2.sf(LR_statistic, 1)\n",
    "\n",
    "print()\n",
    "print('Chi-Squared test statistic is ', round(LR_statistic, 4))\n",
    "print('The p_value for the test statistic is ', round(p_val, 4))\n"
   ]
  },
  {
   "cell_type": "markdown",
   "id": "06ef8022",
   "metadata": {},
   "source": [
    "From the output we can see that the Chi-Squared test-statistic is 0.2059 and the corresponding p-value is 0.65. Since this p-value is not less than .05, we will fail to reject the null hypothesis. This means that both models fit the data equally well. "
   ]
  },
  {
   "cell_type": "markdown",
   "id": "bd9ab26e",
   "metadata": {},
   "source": [
    "### 1.7  Plot with regression line and 95% CIs.\n",
    "Make a production-quality scatterplot of the negative binomial regression result as a line into the original, untransformed plot. Note that you have to remember the sqrt-transformation of oligarchy in the model, and the link-function for the response!. *get_prediction(newdata)* function produces a response-type predictions that needs no exponentiation."
   ]
  },
  {
   "cell_type": "code",
   "execution_count": 12,
   "id": "811df92c",
   "metadata": {},
   "outputs": [
    {
     "data": {
      "image/png": "[encoded data removed]",
      "text/plain": [
       "<Figure size 640x480 with 1 Axes>"
      ]
     },
     "metadata": {},
     "output_type": "display_data"
    },
    {
     "data": {
      "text/html": [
       "<div>\n",
       "<style scoped>\n",
       "    .dataframe tbody tr th:only-of-type {\n",
       "        vertical-align: middle;\n",
       "    }\n",
       "\n",
       "    .dataframe tbody tr th {\n",
       "        vertical-align: top;\n",
       "    }\n",
       "\n",
       "    .dataframe thead th {\n",
       "        text-align: right;\n",
       "    }\n",
       "</style>\n",
       "<table border=\"1\" class=\"dataframe\">\n",
       "  <thead>\n",
       "    <tr style=\"text-align: right;\">\n",
       "      <th></th>\n",
       "      <th>mean</th>\n",
       "      <th>mean_se</th>\n",
       "      <th>mean_ci_lower</th>\n",
       "      <th>mean_ci_upper</th>\n",
       "    </tr>\n",
       "  </thead>\n",
       "  <tbody>\n",
       "    <tr>\n",
       "      <th>0</th>\n",
       "      <td>0.450101</td>\n",
       "      <td>0.123727</td>\n",
       "      <td>0.262619</td>\n",
       "      <td>0.771427</td>\n",
       "    </tr>\n",
       "    <tr>\n",
       "      <th>1</th>\n",
       "      <td>0.566933</td>\n",
       "      <td>0.136860</td>\n",
       "      <td>0.353222</td>\n",
       "      <td>0.909946</td>\n",
       "    </tr>\n",
       "    <tr>\n",
       "      <th>2</th>\n",
       "      <td>0.623799</td>\n",
       "      <td>0.142245</td>\n",
       "      <td>0.398974</td>\n",
       "      <td>0.975312</td>\n",
       "    </tr>\n",
       "    <tr>\n",
       "      <th>3</th>\n",
       "      <td>0.671272</td>\n",
       "      <td>0.146347</td>\n",
       "      <td>0.437849</td>\n",
       "      <td>1.029135</td>\n",
       "    </tr>\n",
       "    <tr>\n",
       "      <th>4</th>\n",
       "      <td>0.714089</td>\n",
       "      <td>0.149789</td>\n",
       "      <td>0.473372</td>\n",
       "      <td>1.077215</td>\n",
       "    </tr>\n",
       "    <tr>\n",
       "      <th>...</th>\n",
       "      <td>...</td>\n",
       "      <td>...</td>\n",
       "      <td>...</td>\n",
       "      <td>...</td>\n",
       "    </tr>\n",
       "    <tr>\n",
       "      <th>96</th>\n",
       "      <td>4.317904</td>\n",
       "      <td>0.818837</td>\n",
       "      <td>2.977509</td>\n",
       "      <td>6.261709</td>\n",
       "    </tr>\n",
       "    <tr>\n",
       "      <th>97</th>\n",
       "      <td>4.368920</td>\n",
       "      <td>0.834812</td>\n",
       "      <td>3.004186</td>\n",
       "      <td>6.353623</td>\n",
       "    </tr>\n",
       "    <tr>\n",
       "      <th>98</th>\n",
       "      <td>4.420273</td>\n",
       "      <td>0.851007</td>\n",
       "      <td>3.030908</td>\n",
       "      <td>6.446521</td>\n",
       "    </tr>\n",
       "    <tr>\n",
       "      <th>99</th>\n",
       "      <td>4.471962</td>\n",
       "      <td>0.867423</td>\n",
       "      <td>3.057674</td>\n",
       "      <td>6.540411</td>\n",
       "    </tr>\n",
       "    <tr>\n",
       "      <th>100</th>\n",
       "      <td>4.523992</td>\n",
       "      <td>0.884062</td>\n",
       "      <td>3.084488</td>\n",
       "      <td>6.635299</td>\n",
       "    </tr>\n",
       "  </tbody>\n",
       "</table>\n",
       "<p>101 rows × 4 columns</p>\n",
       "</div>"
      ],
      "text/plain": [
       "         mean   mean_se  mean_ci_lower  mean_ci_upper\n",
       "0    0.450101  0.123727       0.262619       0.771427\n",
       "1    0.566933  0.136860       0.353222       0.909946\n",
       "2    0.623799  0.142245       0.398974       0.975312\n",
       "3    0.671272  0.146347       0.437849       1.029135\n",
       "4    0.714089  0.149789       0.473372       1.077215\n",
       "..        ...       ...            ...            ...\n",
       "96   4.317904  0.818837       2.977509       6.261709\n",
       "97   4.368920  0.834812       3.004186       6.353623\n",
       "98   4.420273  0.851007       3.030908       6.446521\n",
       "99   4.471962  0.867423       3.057674       6.540411\n",
       "100  4.523992  0.884062       3.084488       6.635299\n",
       "\n",
       "[101 rows x 4 columns]"
      ]
     },
     "execution_count": 12,
     "metadata": {},
     "output_type": "execute_result"
    }
   ],
   "source": [
    "# The scatter plot\n",
    "plt.scatter(x=\"oligarchy\", y=\"miltcoup\", data=africa)\n",
    "plt.xlabel(\"years under military\")\n",
    "plt.ylabel(\"# of military coups\")\n",
    "\n",
    "\n",
    "newOli_ = np.linspace(0, 18, num=101)  # as numpy.ndarray\n",
    "Int_ = np.linspace(1.0, 1.0, num=101) # as numpy.ndarray\n",
    "\n",
    "d = {'Intercept': list(Int_) , 'oligarchy': list(np.sqrt(newOli_))} # Convert to a dataframe\n",
    "newOli = pd.DataFrame(data=d)                                      # oligarchy as sqrt(oligarchy)\n",
    "\n",
    "preds = fnb.get_prediction(newOli).summary_frame(alpha=0.05) # response-type predictions\n",
    "\n",
    "plt.plot(newOli_, preds['mean']) \n",
    "plt.plot(newOli_, preds['mean_ci_lower'], linestyle='dashed', color = \"blue\", linewidth=1.0)\n",
    "plt.plot(newOli_, preds['mean_ci_upper'], linestyle='dashed', color = \"blue\", linewidth=1.0)\n",
    "\n",
    "\n",
    "plt.show()\n",
    "preds"
   ]
  },
  {
   "cell_type": "markdown",
   "id": "ee37cd5f",
   "metadata": {},
   "source": [
    "Note that the link-scale straight line becomes an exponential curve. The transformation of the predictor is automatically taken care of during plotting, and it leads to the kink at the lowest x-values. <br>\n",
    "This plot reveals one reason behind the belief of political scientists that military dictatorships do *not* stabilise nations, at least not in the long run."
   ]
  },
  {
   "cell_type": "code",
   "execution_count": null,
   "id": "66fef001",
   "metadata": {},
   "outputs": [],
   "source": []
  }
 ],
 "metadata": {
  "kernelspec": {
   "display_name": "Python 3 (ipykernel)",
   "language": "python",
   "name": "python3"
  },
  "language_info": {
   "codemirror_mode": {
    "name": "ipython",
    "version": 3
   },
   "file_extension": ".py",
   "mimetype": "text/x-python",
   "name": "python",
   "nbconvert_exporter": "python",
   "pygments_lexer": "ipython3",
   "version": "3.11.7"
  }
 },
 "nbformat": 4,
 "nbformat_minor": 5
}
